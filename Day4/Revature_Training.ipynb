{
 "cells": [
  {
   "cell_type": "code",
   "execution_count": 2,
   "id": "646bc00d",
   "metadata": {},
   "outputs": [
    {
     "name": "stdout",
     "output_type": "stream",
     "text": [
      "Requirement already satisfied: pandas in c:\\users\\91766\\anaconda3\\lib\\site-packages (2.0.3)\n",
      "Requirement already satisfied: python-dateutil>=2.8.2 in c:\\users\\91766\\anaconda3\\lib\\site-packages (from pandas) (2.8.2)\n",
      "Requirement already satisfied: pytz>=2020.1 in c:\\users\\91766\\anaconda3\\lib\\site-packages (from pandas) (2023.3.post1)\n",
      "Requirement already satisfied: tzdata>=2022.1 in c:\\users\\91766\\anaconda3\\lib\\site-packages (from pandas) (2023.3)\n",
      "Requirement already satisfied: numpy>=1.21.0 in c:\\users\\91766\\anaconda3\\lib\\site-packages (from pandas) (1.24.3)\n",
      "Requirement already satisfied: six>=1.5 in c:\\users\\91766\\anaconda3\\lib\\site-packages (from python-dateutil>=2.8.2->pandas) (1.16.0)\n",
      "Requirement already satisfied: pylint in c:\\users\\91766\\anaconda3\\lib\\site-packages (2.16.2)\n",
      "Requirement already satisfied: platformdirs>=2.2.0 in c:\\users\\91766\\anaconda3\\lib\\site-packages (from pylint) (3.10.0)\n",
      "Requirement already satisfied: astroid<=2.16.0-dev0,>=2.14.2 in c:\\users\\91766\\anaconda3\\lib\\site-packages (from pylint) (2.14.2)\n",
      "Requirement already satisfied: isort<6,>=4.2.5 in c:\\users\\91766\\anaconda3\\lib\\site-packages (from pylint) (5.9.3)\n",
      "Requirement already satisfied: mccabe<0.8,>=0.6 in c:\\users\\91766\\anaconda3\\lib\\site-packages (from pylint) (0.7.0)\n",
      "Requirement already satisfied: tomlkit>=0.10.1 in c:\\users\\91766\\anaconda3\\lib\\site-packages (from pylint) (0.11.1)\n",
      "Requirement already satisfied: dill>=0.3.6 in c:\\users\\91766\\anaconda3\\lib\\site-packages (from pylint) (0.3.6)\n",
      "Requirement already satisfied: colorama>=0.4.5 in c:\\users\\91766\\anaconda3\\lib\\site-packages (from pylint) (0.4.6)\n",
      "Requirement already satisfied: lazy-object-proxy>=1.4.0 in c:\\users\\91766\\anaconda3\\lib\\site-packages (from astroid<=2.16.0-dev0,>=2.14.2->pylint) (1.6.0)\n",
      "Requirement already satisfied: wrapt<2,>=1.14 in c:\\users\\91766\\anaconda3\\lib\\site-packages (from astroid<=2.16.0-dev0,>=2.14.2->pylint) (1.14.1)\n"
     ]
    }
   ],
   "source": [
    "!pip install pandas\n",
    "import pandas as pd\n",
    "!pip install pylint"
   ]
  },
  {
   "cell_type": "code",
   "execution_count": 3,
   "id": "30c9fd84",
   "metadata": {},
   "outputs": [
    {
     "data": {
      "text/plain": [
       "array([[1, 2, 3],\n",
       "       [4, 5, 6]])"
      ]
     },
     "execution_count": 3,
     "metadata": {},
     "output_type": "execute_result"
    }
   ],
   "source": [
    "import numpy as np\n",
    "# np.arrange([1,2,3,4,5])\n",
    "a=np.array([[1,2,3],[4,5,6]])\n",
    "a\n",
    "# a.shape"
   ]
  },
  {
   "cell_type": "code",
   "execution_count": 4,
   "id": "dc83ecff",
   "metadata": {},
   "outputs": [
    {
     "data": {
      "text/plain": [
       "5"
      ]
     },
     "execution_count": 4,
     "metadata": {},
     "output_type": "execute_result"
    }
   ],
   "source": [
    "a[1,1]"
   ]
  },
  {
   "cell_type": "code",
   "execution_count": 5,
   "id": "958c6e95",
   "metadata": {},
   "outputs": [
    {
     "data": {
      "text/plain": [
       "2"
      ]
     },
     "execution_count": 5,
     "metadata": {},
     "output_type": "execute_result"
    }
   ],
   "source": [
    "a.ndim"
   ]
  },
  {
   "cell_type": "code",
   "execution_count": 6,
   "id": "f22bed18",
   "metadata": {},
   "outputs": [
    {
     "data": {
      "text/plain": [
       "2"
      ]
     },
     "execution_count": 6,
     "metadata": {},
     "output_type": "execute_result"
    }
   ],
   "source": [
    "len(a)"
   ]
  },
  {
   "cell_type": "code",
   "execution_count": 7,
   "id": "88e7e3e8",
   "metadata": {},
   "outputs": [],
   "source": [
    "import pandas as pd"
   ]
  },
  {
   "cell_type": "code",
   "execution_count": 8,
   "id": "d43406b9",
   "metadata": {},
   "outputs": [],
   "source": [
    "data = {\n",
    "    \"OrderID\": [1001, 1002, 1003, 1004, 1005, 1006],\n",
    "    \"CustomerName\": [\"Alice\", \"Bob\", \"Charlie\", \"David\", \"Eve\", \"Frank\"],\n",
    "    \"Product\": [\"Laptop\", \"Smartphone\", \"Laptop\", \"Monitor\", \"Tablet\", \"Laptop\"],\n",
    "    \"Category\": [\"Electronics\", \"Electronics\", \"Electronics\", \"Electronics\", \"Electronics\", \"Electronics\"],\n",
    "    \"Quantity\": [1, 2, 1, 2, 3, 1],\n",
    "    \"PricePerUnit\": [800, 500, 900, 300, 200, 850],\n",
    "    \"OrderDate\": pd.to_datetime([\"2024-03-01\", \"2024-03-02\", \"2024-03-03\", \"2024-03-05\", \"2024-03-06\", \"2024-03-06\"]),\n",
    "    \"City\": [\"New York\", \"Los Angeles\", \"Chicago\", \"Houston\", \"Phoenix\", \"New York\"]\n",
    "}"
   ]
  },
  {
   "cell_type": "code",
   "execution_count": null,
   "id": "a63b0d86",
   "metadata": {},
   "outputs": [],
   "source": []
  },
  {
   "cell_type": "code",
   "execution_count": 9,
   "id": "c596a42c",
   "metadata": {},
   "outputs": [
    {
     "data": {
      "text/html": [
       "<div>\n",
       "<style scoped>\n",
       "    .dataframe tbody tr th:only-of-type {\n",
       "        vertical-align: middle;\n",
       "    }\n",
       "\n",
       "    .dataframe tbody tr th {\n",
       "        vertical-align: top;\n",
       "    }\n",
       "\n",
       "    .dataframe thead th {\n",
       "        text-align: right;\n",
       "    }\n",
       "</style>\n",
       "<table border=\"1\" class=\"dataframe\">\n",
       "  <thead>\n",
       "    <tr style=\"text-align: right;\">\n",
       "      <th></th>\n",
       "      <th>OrderID</th>\n",
       "      <th>CustomerName</th>\n",
       "      <th>Product</th>\n",
       "      <th>Category</th>\n",
       "      <th>Quantity</th>\n",
       "      <th>PricePerUnit</th>\n",
       "      <th>OrderDate</th>\n",
       "      <th>City</th>\n",
       "    </tr>\n",
       "  </thead>\n",
       "  <tbody>\n",
       "    <tr>\n",
       "      <th>0</th>\n",
       "      <td>1001</td>\n",
       "      <td>Alice</td>\n",
       "      <td>Laptop</td>\n",
       "      <td>Electronics</td>\n",
       "      <td>1</td>\n",
       "      <td>800</td>\n",
       "      <td>2024-03-01</td>\n",
       "      <td>New York</td>\n",
       "    </tr>\n",
       "    <tr>\n",
       "      <th>1</th>\n",
       "      <td>1002</td>\n",
       "      <td>Bob</td>\n",
       "      <td>Smartphone</td>\n",
       "      <td>Electronics</td>\n",
       "      <td>2</td>\n",
       "      <td>500</td>\n",
       "      <td>2024-03-02</td>\n",
       "      <td>Los Angeles</td>\n",
       "    </tr>\n",
       "    <tr>\n",
       "      <th>2</th>\n",
       "      <td>1003</td>\n",
       "      <td>Charlie</td>\n",
       "      <td>Laptop</td>\n",
       "      <td>Electronics</td>\n",
       "      <td>1</td>\n",
       "      <td>900</td>\n",
       "      <td>2024-03-03</td>\n",
       "      <td>Chicago</td>\n",
       "    </tr>\n",
       "    <tr>\n",
       "      <th>3</th>\n",
       "      <td>1004</td>\n",
       "      <td>David</td>\n",
       "      <td>Monitor</td>\n",
       "      <td>Electronics</td>\n",
       "      <td>2</td>\n",
       "      <td>300</td>\n",
       "      <td>2024-03-05</td>\n",
       "      <td>Houston</td>\n",
       "    </tr>\n",
       "    <tr>\n",
       "      <th>4</th>\n",
       "      <td>1005</td>\n",
       "      <td>Eve</td>\n",
       "      <td>Tablet</td>\n",
       "      <td>Electronics</td>\n",
       "      <td>3</td>\n",
       "      <td>200</td>\n",
       "      <td>2024-03-06</td>\n",
       "      <td>Phoenix</td>\n",
       "    </tr>\n",
       "    <tr>\n",
       "      <th>5</th>\n",
       "      <td>1006</td>\n",
       "      <td>Frank</td>\n",
       "      <td>Laptop</td>\n",
       "      <td>Electronics</td>\n",
       "      <td>1</td>\n",
       "      <td>850</td>\n",
       "      <td>2024-03-06</td>\n",
       "      <td>New York</td>\n",
       "    </tr>\n",
       "  </tbody>\n",
       "</table>\n",
       "</div>"
      ],
      "text/plain": [
       "   OrderID CustomerName     Product     Category  Quantity  PricePerUnit  \\\n",
       "0     1001        Alice      Laptop  Electronics         1           800   \n",
       "1     1002          Bob  Smartphone  Electronics         2           500   \n",
       "2     1003      Charlie      Laptop  Electronics         1           900   \n",
       "3     1004        David     Monitor  Electronics         2           300   \n",
       "4     1005          Eve      Tablet  Electronics         3           200   \n",
       "5     1006        Frank      Laptop  Electronics         1           850   \n",
       "\n",
       "   OrderDate         City  \n",
       "0 2024-03-01     New York  \n",
       "1 2024-03-02  Los Angeles  \n",
       "2 2024-03-03      Chicago  \n",
       "3 2024-03-05      Houston  \n",
       "4 2024-03-06      Phoenix  \n",
       "5 2024-03-06     New York  "
      ]
     },
     "execution_count": 9,
     "metadata": {},
     "output_type": "execute_result"
    }
   ],
   "source": [
    "d=pd.DataFrame(data)\n",
    "d"
   ]
  },
  {
   "cell_type": "code",
   "execution_count": 10,
   "id": "c6e4d3c0",
   "metadata": {},
   "outputs": [
    {
     "data": {
      "text/plain": [
       "OrderID                  int64\n",
       "CustomerName            object\n",
       "Product                 object\n",
       "Category                object\n",
       "Quantity                 int64\n",
       "PricePerUnit             int64\n",
       "OrderDate       datetime64[ns]\n",
       "City                    object\n",
       "dtype: object"
      ]
     },
     "execution_count": 10,
     "metadata": {},
     "output_type": "execute_result"
    }
   ],
   "source": [
    "d.dtypes"
   ]
  },
  {
   "cell_type": "code",
   "execution_count": 11,
   "id": "46b1ce8a",
   "metadata": {},
   "outputs": [
    {
     "data": {
      "text/html": [
       "<div>\n",
       "<style scoped>\n",
       "    .dataframe tbody tr th:only-of-type {\n",
       "        vertical-align: middle;\n",
       "    }\n",
       "\n",
       "    .dataframe tbody tr th {\n",
       "        vertical-align: top;\n",
       "    }\n",
       "\n",
       "    .dataframe thead th {\n",
       "        text-align: right;\n",
       "    }\n",
       "</style>\n",
       "<table border=\"1\" class=\"dataframe\">\n",
       "  <thead>\n",
       "    <tr style=\"text-align: right;\">\n",
       "      <th></th>\n",
       "      <th>OrderID</th>\n",
       "      <th>CustomerName</th>\n",
       "      <th>Product</th>\n",
       "      <th>Category</th>\n",
       "      <th>Quantity</th>\n",
       "      <th>PricePerUnit</th>\n",
       "      <th>OrderDate</th>\n",
       "    </tr>\n",
       "    <tr>\n",
       "      <th>City</th>\n",
       "      <th></th>\n",
       "      <th></th>\n",
       "      <th></th>\n",
       "      <th></th>\n",
       "      <th></th>\n",
       "      <th></th>\n",
       "      <th></th>\n",
       "    </tr>\n",
       "  </thead>\n",
       "  <tbody>\n",
       "    <tr>\n",
       "      <th>Chicago</th>\n",
       "      <td>1</td>\n",
       "      <td>1</td>\n",
       "      <td>1</td>\n",
       "      <td>1</td>\n",
       "      <td>1</td>\n",
       "      <td>1</td>\n",
       "      <td>1</td>\n",
       "    </tr>\n",
       "    <tr>\n",
       "      <th>Houston</th>\n",
       "      <td>1</td>\n",
       "      <td>1</td>\n",
       "      <td>1</td>\n",
       "      <td>1</td>\n",
       "      <td>1</td>\n",
       "      <td>1</td>\n",
       "      <td>1</td>\n",
       "    </tr>\n",
       "    <tr>\n",
       "      <th>Los Angeles</th>\n",
       "      <td>1</td>\n",
       "      <td>1</td>\n",
       "      <td>1</td>\n",
       "      <td>1</td>\n",
       "      <td>1</td>\n",
       "      <td>1</td>\n",
       "      <td>1</td>\n",
       "    </tr>\n",
       "    <tr>\n",
       "      <th>New York</th>\n",
       "      <td>2</td>\n",
       "      <td>2</td>\n",
       "      <td>2</td>\n",
       "      <td>2</td>\n",
       "      <td>2</td>\n",
       "      <td>2</td>\n",
       "      <td>2</td>\n",
       "    </tr>\n",
       "    <tr>\n",
       "      <th>Phoenix</th>\n",
       "      <td>1</td>\n",
       "      <td>1</td>\n",
       "      <td>1</td>\n",
       "      <td>1</td>\n",
       "      <td>1</td>\n",
       "      <td>1</td>\n",
       "      <td>1</td>\n",
       "    </tr>\n",
       "  </tbody>\n",
       "</table>\n",
       "</div>"
      ],
      "text/plain": [
       "             OrderID  CustomerName  Product  Category  Quantity  PricePerUnit  \\\n",
       "City                                                                            \n",
       "Chicago            1             1        1         1         1             1   \n",
       "Houston            1             1        1         1         1             1   \n",
       "Los Angeles        1             1        1         1         1             1   \n",
       "New York           2             2        2         2         2             2   \n",
       "Phoenix            1             1        1         1         1             1   \n",
       "\n",
       "             OrderDate  \n",
       "City                    \n",
       "Chicago              1  \n",
       "Houston              1  \n",
       "Los Angeles          1  \n",
       "New York             2  \n",
       "Phoenix              1  "
      ]
     },
     "execution_count": 11,
     "metadata": {},
     "output_type": "execute_result"
    }
   ],
   "source": [
    "s=d.groupby(\"City\").count()\n",
    "s"
   ]
  },
  {
   "cell_type": "code",
   "execution_count": 12,
   "id": "cbe28e11",
   "metadata": {},
   "outputs": [
    {
     "data": {
      "text/html": [
       "<div>\n",
       "<style scoped>\n",
       "    .dataframe tbody tr th:only-of-type {\n",
       "        vertical-align: middle;\n",
       "    }\n",
       "\n",
       "    .dataframe tbody tr th {\n",
       "        vertical-align: top;\n",
       "    }\n",
       "\n",
       "    .dataframe thead th {\n",
       "        text-align: right;\n",
       "    }\n",
       "</style>\n",
       "<table border=\"1\" class=\"dataframe\">\n",
       "  <thead>\n",
       "    <tr style=\"text-align: right;\">\n",
       "      <th></th>\n",
       "      <th>OrderID</th>\n",
       "      <th>CustomerName</th>\n",
       "      <th>Product</th>\n",
       "      <th>Category</th>\n",
       "      <th>Quantity</th>\n",
       "      <th>PricePerUnit</th>\n",
       "      <th>OrderDate</th>\n",
       "      <th>City</th>\n",
       "    </tr>\n",
       "  </thead>\n",
       "  <tbody>\n",
       "    <tr>\n",
       "      <th>3</th>\n",
       "      <td>1004</td>\n",
       "      <td>David</td>\n",
       "      <td>Monitor</td>\n",
       "      <td>Electronics</td>\n",
       "      <td>2</td>\n",
       "      <td>300</td>\n",
       "      <td>2024-03-05</td>\n",
       "      <td>Houston</td>\n",
       "    </tr>\n",
       "    <tr>\n",
       "      <th>4</th>\n",
       "      <td>1005</td>\n",
       "      <td>Eve</td>\n",
       "      <td>Tablet</td>\n",
       "      <td>Electronics</td>\n",
       "      <td>3</td>\n",
       "      <td>200</td>\n",
       "      <td>2024-03-06</td>\n",
       "      <td>Phoenix</td>\n",
       "    </tr>\n",
       "    <tr>\n",
       "      <th>5</th>\n",
       "      <td>1006</td>\n",
       "      <td>Frank</td>\n",
       "      <td>Laptop</td>\n",
       "      <td>Electronics</td>\n",
       "      <td>1</td>\n",
       "      <td>850</td>\n",
       "      <td>2024-03-06</td>\n",
       "      <td>New York</td>\n",
       "    </tr>\n",
       "  </tbody>\n",
       "</table>\n",
       "</div>"
      ],
      "text/plain": [
       "   OrderID CustomerName  Product     Category  Quantity  PricePerUnit  \\\n",
       "3     1004        David  Monitor  Electronics         2           300   \n",
       "4     1005          Eve   Tablet  Electronics         3           200   \n",
       "5     1006        Frank   Laptop  Electronics         1           850   \n",
       "\n",
       "   OrderDate      City  \n",
       "3 2024-03-05   Houston  \n",
       "4 2024-03-06   Phoenix  \n",
       "5 2024-03-06  New York  "
      ]
     },
     "execution_count": 12,
     "metadata": {},
     "output_type": "execute_result"
    }
   ],
   "source": [
    "d[\"OrderID\"] = d[\"OrderID\"].astype(int)\n",
    "op = d[(d[\"OrderID\"] >= 1004) & (d[\"PricePerUnit\"] >= 200)]\n",
    "op"
   ]
  },
  {
   "cell_type": "code",
   "execution_count": 13,
   "id": "7361c85d",
   "metadata": {},
   "outputs": [
    {
     "data": {
      "text/plain": [
       "Index(['OrderID', 'CustomerName', 'Product', 'Category', 'Quantity',\n",
       "       'PricePerUnit', 'OrderDate', 'City'],\n",
       "      dtype='object')"
      ]
     },
     "execution_count": 13,
     "metadata": {},
     "output_type": "execute_result"
    }
   ],
   "source": [
    "\n",
    "sq=d.columns\n",
    "sq"
   ]
  },
  {
   "cell_type": "code",
   "execution_count": 14,
   "id": "f50c5e01",
   "metadata": {},
   "outputs": [],
   "source": [
    "students = {\n",
    "    \"Alice\": [85, 90, 78, 92],\n",
    "    \"Bob\":[60, 65, 70, 75],\n",
    "    \"Charlie\": [40, 45, 50, 55],\n",
    "    \"David\":[95, 100, 98, 92]\n",
    "}"
   ]
  },
  {
   "cell_type": "code",
   "execution_count": 15,
   "id": "2400a251",
   "metadata": {},
   "outputs": [],
   "source": [
    "df=pd.DataFrame(students)\n",
    "df.columns = df.columns.str.strip()"
   ]
  },
  {
   "cell_type": "code",
   "execution_count": 16,
   "id": "ed383833",
   "metadata": {},
   "outputs": [
    {
     "ename": "KeyError",
     "evalue": "'PricePerUnit'",
     "output_type": "error",
     "traceback": [
      "\u001b[1;31m---------------------------------------------------------------------------\u001b[0m",
      "\u001b[1;31mKeyError\u001b[0m                                  Traceback (most recent call last)",
      "\u001b[1;32m~\\AppData\\Local\\Temp\\ipykernel_16836\\112665218.py\u001b[0m in \u001b[0;36m?\u001b[1;34m()\u001b[0m\n\u001b[1;32m----> 1\u001b[1;33m \u001b[0mso\u001b[0m\u001b[1;33m=\u001b[0m\u001b[0mdf\u001b[0m\u001b[1;33m.\u001b[0m\u001b[0msort_values\u001b[0m\u001b[1;33m(\u001b[0m\u001b[0mby\u001b[0m\u001b[1;33m=\u001b[0m\u001b[1;34m\"PricePerUnit\"\u001b[0m\u001b[1;33m,\u001b[0m\u001b[0mascending\u001b[0m\u001b[1;33m=\u001b[0m\u001b[1;32mTrue\u001b[0m\u001b[1;33m)\u001b[0m\u001b[1;33m\u001b[0m\u001b[1;33m\u001b[0m\u001b[0m\n\u001b[0m",
      "\u001b[1;32m~\\anaconda3\\Lib\\site-packages\\pandas\\core\\frame.py\u001b[0m in \u001b[0;36m?\u001b[1;34m(self, by, axis, ascending, inplace, kind, na_position, ignore_index, key)\u001b[0m\n\u001b[0;32m   6754\u001b[0m         \u001b[1;32melif\u001b[0m \u001b[0mlen\u001b[0m\u001b[1;33m(\u001b[0m\u001b[0mby\u001b[0m\u001b[1;33m)\u001b[0m\u001b[1;33m:\u001b[0m\u001b[1;33m\u001b[0m\u001b[1;33m\u001b[0m\u001b[0m\n\u001b[0;32m   6755\u001b[0m             \u001b[1;31m# len(by) == 1\u001b[0m\u001b[1;33m\u001b[0m\u001b[1;33m\u001b[0m\u001b[0m\n\u001b[0;32m   6756\u001b[0m \u001b[1;33m\u001b[0m\u001b[0m\n\u001b[0;32m   6757\u001b[0m             \u001b[0mby\u001b[0m \u001b[1;33m=\u001b[0m \u001b[0mby\u001b[0m\u001b[1;33m[\u001b[0m\u001b[1;36m0\u001b[0m\u001b[1;33m]\u001b[0m\u001b[1;33m\u001b[0m\u001b[1;33m\u001b[0m\u001b[0m\n\u001b[1;32m-> 6758\u001b[1;33m             \u001b[0mk\u001b[0m \u001b[1;33m=\u001b[0m \u001b[0mself\u001b[0m\u001b[1;33m.\u001b[0m\u001b[0m_get_label_or_level_values\u001b[0m\u001b[1;33m(\u001b[0m\u001b[0mby\u001b[0m\u001b[1;33m,\u001b[0m \u001b[0maxis\u001b[0m\u001b[1;33m=\u001b[0m\u001b[0maxis\u001b[0m\u001b[1;33m)\u001b[0m\u001b[1;33m\u001b[0m\u001b[1;33m\u001b[0m\u001b[0m\n\u001b[0m\u001b[0;32m   6759\u001b[0m \u001b[1;33m\u001b[0m\u001b[0m\n\u001b[0;32m   6760\u001b[0m             \u001b[1;31m# need to rewrap column in Series to apply key function\u001b[0m\u001b[1;33m\u001b[0m\u001b[1;33m\u001b[0m\u001b[0m\n\u001b[0;32m   6761\u001b[0m             \u001b[1;32mif\u001b[0m \u001b[0mkey\u001b[0m \u001b[1;32mis\u001b[0m \u001b[1;32mnot\u001b[0m \u001b[1;32mNone\u001b[0m\u001b[1;33m:\u001b[0m\u001b[1;33m\u001b[0m\u001b[1;33m\u001b[0m\u001b[0m\n",
      "\u001b[1;32m~\\anaconda3\\Lib\\site-packages\\pandas\\core\\generic.py\u001b[0m in \u001b[0;36m?\u001b[1;34m(self, key, axis)\u001b[0m\n\u001b[0;32m   1774\u001b[0m             \u001b[0mvalues\u001b[0m \u001b[1;33m=\u001b[0m \u001b[0mself\u001b[0m\u001b[1;33m.\u001b[0m\u001b[0mxs\u001b[0m\u001b[1;33m(\u001b[0m\u001b[0mkey\u001b[0m\u001b[1;33m,\u001b[0m \u001b[0maxis\u001b[0m\u001b[1;33m=\u001b[0m\u001b[0mother_axes\u001b[0m\u001b[1;33m[\u001b[0m\u001b[1;36m0\u001b[0m\u001b[1;33m]\u001b[0m\u001b[1;33m)\u001b[0m\u001b[1;33m.\u001b[0m\u001b[0m_values\u001b[0m\u001b[1;33m\u001b[0m\u001b[1;33m\u001b[0m\u001b[0m\n\u001b[0;32m   1775\u001b[0m         \u001b[1;32melif\u001b[0m \u001b[0mself\u001b[0m\u001b[1;33m.\u001b[0m\u001b[0m_is_level_reference\u001b[0m\u001b[1;33m(\u001b[0m\u001b[0mkey\u001b[0m\u001b[1;33m,\u001b[0m \u001b[0maxis\u001b[0m\u001b[1;33m=\u001b[0m\u001b[0maxis\u001b[0m\u001b[1;33m)\u001b[0m\u001b[1;33m:\u001b[0m\u001b[1;33m\u001b[0m\u001b[1;33m\u001b[0m\u001b[0m\n\u001b[0;32m   1776\u001b[0m             \u001b[0mvalues\u001b[0m \u001b[1;33m=\u001b[0m \u001b[0mself\u001b[0m\u001b[1;33m.\u001b[0m\u001b[0maxes\u001b[0m\u001b[1;33m[\u001b[0m\u001b[0maxis\u001b[0m\u001b[1;33m]\u001b[0m\u001b[1;33m.\u001b[0m\u001b[0mget_level_values\u001b[0m\u001b[1;33m(\u001b[0m\u001b[0mkey\u001b[0m\u001b[1;33m)\u001b[0m\u001b[1;33m.\u001b[0m\u001b[0m_values\u001b[0m\u001b[1;33m\u001b[0m\u001b[1;33m\u001b[0m\u001b[0m\n\u001b[0;32m   1777\u001b[0m         \u001b[1;32melse\u001b[0m\u001b[1;33m:\u001b[0m\u001b[1;33m\u001b[0m\u001b[1;33m\u001b[0m\u001b[0m\n\u001b[1;32m-> 1778\u001b[1;33m             \u001b[1;32mraise\u001b[0m \u001b[0mKeyError\u001b[0m\u001b[1;33m(\u001b[0m\u001b[0mkey\u001b[0m\u001b[1;33m)\u001b[0m\u001b[1;33m\u001b[0m\u001b[1;33m\u001b[0m\u001b[0m\n\u001b[0m\u001b[0;32m   1779\u001b[0m \u001b[1;33m\u001b[0m\u001b[0m\n\u001b[0;32m   1780\u001b[0m         \u001b[1;31m# Check for duplicates\u001b[0m\u001b[1;33m\u001b[0m\u001b[1;33m\u001b[0m\u001b[0m\n\u001b[0;32m   1781\u001b[0m         \u001b[1;32mif\u001b[0m \u001b[0mvalues\u001b[0m\u001b[1;33m.\u001b[0m\u001b[0mndim\u001b[0m \u001b[1;33m>\u001b[0m \u001b[1;36m1\u001b[0m\u001b[1;33m:\u001b[0m\u001b[1;33m\u001b[0m\u001b[1;33m\u001b[0m\u001b[0m\n",
      "\u001b[1;31mKeyError\u001b[0m: 'PricePerUnit'"
     ]
    }
   ],
   "source": [
    "so=df.sort_values(by=\"PricePerUnit\",ascending=True)"
   ]
  },
  {
   "cell_type": "code",
   "execution_count": null,
   "id": "058f6c61",
   "metadata": {},
   "outputs": [],
   "source": [
    "df.describe()\n"
   ]
  },
  {
   "cell_type": "code",
   "execution_count": null,
   "id": "bcbea482",
   "metadata": {},
   "outputs": [],
   "source": [
    "df.info()"
   ]
  },
  {
   "cell_type": "code",
   "execution_count": null,
   "id": "27d5acbd",
   "metadata": {},
   "outputs": [],
   "source": []
  },
  {
   "cell_type": "code",
   "execution_count": null,
   "id": "76033427",
   "metadata": {},
   "outputs": [],
   "source": []
  },
  {
   "cell_type": "markdown",
   "id": "e38f8588",
   "metadata": {},
   "source": [
    "# The Financial Analyst’s Dilemma 💰"
   ]
  },
  {
   "cell_type": "code",
   "execution_count": null,
   "id": "5819712c",
   "metadata": {},
   "outputs": [],
   "source": [
    "import numpy as np\n",
    "import pandas as pd\n",
    "stock_prices = np.array([\n",
    "    [120, 340, 450, 220, 310],\n",
    "    [330, 420, 380, 250, 410],\n",
    "    [150, 280, 290, 230, 200],\n",
    "])\n",
    "\n",
    "print(stock_prices.shape)  # Output: (30, 5)\n"
   ]
  },
  {
   "cell_type": "code",
   "execution_count": null,
   "id": "8cf8c598",
   "metadata": {},
   "outputs": [],
   "source": [
    "d=pd.DataFrame(stock_prices)\n",
    "d\n",
    "list=[]\n",
    "print(len(d))\n",
    "for i in range(5):\n",
    "    list.append(np.average(d[i]))\n",
    "print(\"Avearage stock prices:\",list)"
   ]
  },
  {
   "cell_type": "code",
   "execution_count": null,
   "id": "83ddd39a",
   "metadata": {},
   "outputs": [],
   "source": [
    "d"
   ]
  },
  {
   "cell_type": "code",
   "execution_count": null,
   "id": "f94ac5fd",
   "metadata": {},
   "outputs": [],
   "source": [
    "# for i in range(5):\n",
    "#     for j in range(len(d)):\n",
    "m=np.max(d)\n",
    "mi=np.min(d)\n",
    "m\n",
    "mi"
   ]
  },
  {
   "cell_type": "code",
   "execution_count": null,
   "id": "54768e83",
   "metadata": {},
   "outputs": [],
   "source": [
    "max_pos = np.unravel_index(d.values.argmax(), d.shape)\n",
    "max_pos"
   ]
  },
  {
   "cell_type": "code",
   "execution_count": null,
   "id": "565c115c",
   "metadata": {},
   "outputs": [],
   "source": [
    "max_pos = np.unravel_index(d.values.argmax(), d.shape)\n",
    "company = d.index[max_pos[0]]\n",
    "date = d.columns[max_pos[1]]\n",
    "price = d.iloc[max_pos]\n",
    "\n",
    "print(f\"\\n  max price was ₹{d.loc[company, date]} for {company} on {date}\")\n"
   ]
  },
  {
   "cell_type": "code",
   "execution_count": null,
   "id": "7502c3c7",
   "metadata": {},
   "outputs": [],
   "source": [
    "#normalized prices\n",
    "stock_pr=260\n",
    "\n",
    "# normalized_prices=()"
   ]
  },
  {
   "cell_type": "code",
   "execution_count": null,
   "id": "81e095e4",
   "metadata": {},
   "outputs": [],
   "source": [
    "# normalized_prices\n",
    "# normalized_prices=(stock_pr-np.min(d))/(np.max(d)-np.min(d))\n",
    "# normalized_prices\n",
    "list=[]\n",
    "print(len(d))\n",
    "for i in range(5):\n",
    "    list.append(np.mean(d[i]))\n",
    "print(\"Avearage stock prices:\",list)"
   ]
  },
  {
   "cell_type": "code",
   "execution_count": null,
   "id": "2ff2ef03",
   "metadata": {},
   "outputs": [],
   "source": [
    "# l=[]\n",
    "# print(d[2][1])\n",
    "for i in range(5):\n",
    "    for j in range(len(d)):\n",
    "        l.append(round(d[i][j]/m,2))\n",
    "\n",
    "arr = np.array(l).reshape(3, 5)\n",
    "print(\"normalized values\", arr)"
   ]
  },
  {
   "cell_type": "code",
   "execution_count": null,
   "id": "16730eac",
   "metadata": {},
   "outputs": [],
   "source": []
  },
  {
   "cell_type": "code",
   "execution_count": null,
   "id": "5bf0ebc0",
   "metadata": {},
   "outputs": [],
   "source": []
  },
  {
   "cell_type": "code",
   "execution_count": null,
   "id": "d9ee22b1",
   "metadata": {},
   "outputs": [],
   "source": []
  },
  {
   "cell_type": "code",
   "execution_count": null,
   "id": "2cebd2b2",
   "metadata": {},
   "outputs": [],
   "source": []
  },
  {
   "cell_type": "markdown",
   "id": "869121e3",
   "metadata": {},
   "source": [
    "# Challenge 2: The Space Mission Resource Allocation 🌌"
   ]
  },
  {
   "cell_type": "code",
   "execution_count": null,
   "id": "58c4a8a2",
   "metadata": {},
   "outputs": [],
   "source": [
    "resources = np.array([\n",
    "    [15, 40, 32],\n",
    "    [20, 42, 35],\n",
    "    [25, 38, 30],\n",
    "    [18, 50, 40],\n",
    "    [22, 37, 36],\n",
    "    [28, 45, 33]\n",
    "])"
   ]
  },
  {
   "cell_type": "code",
   "execution_count": null,
   "id": "4730d2a0",
   "metadata": {},
   "outputs": [],
   "source": [
    "rd=pd.DataFrame(resources)\n",
    "rd"
   ]
  },
  {
   "cell_type": "code",
   "execution_count": null,
   "id": "244a0100",
   "metadata": {},
   "outputs": [],
   "source": [
    "np.sum(rd[0])"
   ]
  },
  {
   "cell_type": "code",
   "execution_count": null,
   "id": "ceddce2b",
   "metadata": {},
   "outputs": [],
   "source": [
    "rl=[]\n",
    "\n",
    "for i in range(3):\n",
    "    rl.append(np.sum(rd[i]))\n",
    "print(rl)"
   ]
  },
  {
   "cell_type": "code",
   "execution_count": null,
   "id": "80819f8e",
   "metadata": {},
   "outputs": [],
   "source": [
    "print(\"Total resources needed (tons): Oxygen: \",rl[0], \"Water:\", rl[1], \"Food:\", rl[2])"
   ]
  },
  {
   "cell_type": "code",
   "execution_count": null,
   "id": "fcfea88b",
   "metadata": {},
   "outputs": [],
   "source": [
    "stde=[]\n",
    "\n",
    "for i in range(3):\n",
    "    stde.append(round(np.std(rd[i]),2))\n",
    "print(\"Standard deviation of consumption: Oxygen:\",stde[0],\"water:\",stde[1],\"Food:\",stde[2])"
   ]
  },
  {
   "cell_type": "code",
   "execution_count": null,
   "id": "e2c581c3",
   "metadata": {},
   "outputs": [],
   "source": [
    "transpose_matrix=rd.T\n",
    "transpose_matrix"
   ]
  },
  {
   "cell_type": "code",
   "execution_count": null,
   "id": "7e280d8d",
   "metadata": {},
   "outputs": [],
   "source": [
    "rd"
   ]
  },
  {
   "cell_type": "code",
   "execution_count": null,
   "id": "5ace4d66",
   "metadata": {},
   "outputs": [],
   "source": [
    "max=rd[0][0]\n",
    "month=0\n",
    "for i in range(3):\n",
    "    for j in range(len(rd)):\n",
    "        if rd[i][j]>max:\n",
    "            max=rd[i][j]\n",
    "            month=j+1\n",
    "print(\"Highest consumption in a month: Water (\",max, \"tons in month \",month,\")\")\n"
   ]
  },
  {
   "cell_type": "markdown",
   "id": "17600118",
   "metadata": {},
   "source": [
    "# Basketball Performance Analyzer 📊# "
   ]
  },
  {
   "cell_type": "code",
   "execution_count": null,
   "id": "928f6714",
   "metadata": {},
   "outputs": [],
   "source": [
    "points = np.array([\n",
    "    [10, 25, 30, 22, 12, 18, 26, 32, 24, 29],\n",
    "    [20, 15, 12, 28, 24, 26, 30, 18, 22, 25],\n",
    "    [35, 30, 32, 40, 28, 34, 29, 31, 26, 37],\n",
    "    [12, 18, 20, 15, 22, 14, 19, 21, 23, 17],\n",
    "    [28, 26, 27, 25, 30, 29, 35, 32, 31, 38]\n",
    "])"
   ]
  },
  {
   "cell_type": "code",
   "execution_count": null,
   "id": "ad9e9c99",
   "metadata": {},
   "outputs": [],
   "source": [
    "dp=pd.DataFrame(points)\n",
    "dp\n",
    "print(dp[3][3])"
   ]
  },
  {
   "cell_type": "code",
   "execution_count": null,
   "id": "781823b7",
   "metadata": {},
   "outputs": [],
   "source": [
    "data = [\n",
    "    [10, 25, 30, 22, 12, 18, 26, 32, 24, 29],\n",
    "    [20, 15, 12, 28, 24, 26, 30, 18, 22, 25],\n",
    "    [35, 30, 32, 40, 28, 34, 29, 31, 26, 37],\n",
    "    [12, 18, 20, 15, 22, 14, 19, 21, 23, 17],\n",
    "    [28, 26, 27, 25, 30, 29, 35, 32, 31, 38]\n",
    "]\n",
    "\n",
    "\n",
    "dp = pd.DataFrame(data, columns=[f'{i}' for i in range(10)])\n",
    "dp"
   ]
  },
  {
   "cell_type": "code",
   "execution_count": null,
   "id": "4146eee5",
   "metadata": {},
   "outputs": [],
   "source": [
    "list=[]\n",
    "print(len(dp))\n",
    "for i in range(5):\n",
    "    list.append(np.mean(dp[i]))\n",
    "print(\"Avearage points per game :\",list)"
   ]
  },
  {
   "cell_type": "code",
   "execution_count": null,
   "id": "d41fe747",
   "metadata": {},
   "outputs": [],
   "source": [
    "scores=[]\n",
    "s=dp.T\n",
    "#for i in range(4):\n",
    " #    for j in range(10):\n",
    "#         print(dp[i][j])\n",
    "# for i in range(5):\n",
    "#     scores.append(np.sum(dp[i]))\n",
    "\n",
    "print(s)"
   ]
  },
  {
   "cell_type": "code",
   "execution_count": null,
   "id": "d0fb1d7b",
   "metadata": {},
   "outputs": [],
   "source": [
    "b=np.sum(s)\n",
    "print(b)\n",
    "sort_list=[]\n",
    "sort_list.append(np.sort(b)[::-1])\n",
    "print(sort_list[0])"
   ]
  },
  {
   "cell_type": "code",
   "execution_count": null,
   "id": "97f435c1",
   "metadata": {},
   "outputs": [],
   "source": [
    "h=0\n",
    "l=b[0]\n",
    "for i in range(5):\n",
    "    if b[i]>h:\n",
    "        h=b[i]\n",
    "        player=i+1\n",
    "    if b[i]<l:\n",
    "        l=b[i]\n",
    "        wplayer=i+1\n",
    "\n",
    "print(\"Best-performing player: Player\", player, \" (Total: \",h, \"points)\")\n",
    "print(\"Worst-performing player: Player\", wplayer, \" (Total: \",l, \"points)\")\n",
    "    "
   ]
  },
  {
   "cell_type": "code",
   "execution_count": null,
   "id": "90d90c48",
   "metadata": {},
   "outputs": [],
   "source": [
    "# pos=-1\n",
    "# print(sort_list[0])\n",
    "# for i in range(5):\n",
    "scores_above=[]\n",
    "count=0\n",
    "for i in range(5):\n",
    "    if s[i]>30:\n",
    "        count+=1\n",
    "        scores_above.append(count)\n",
    "        print(\"Player\", i,\": Games [\",count,\"]\")\n",
    "    "
   ]
  },
  {
   "cell_type": "code",
   "execution_count": null,
   "id": "bddb93c4",
   "metadata": {},
   "outputs": [],
   "source": [
    "np.zeros((2,2))\n",
    "np.ones((2,6))"
   ]
  },
  {
   "cell_type": "markdown",
   "id": "54fd38aa",
   "metadata": {},
   "source": [
    "# Employee Salary Insights"
   ]
  },
  {
   "cell_type": "code",
   "execution_count": 18,
   "id": "b390ca24",
   "metadata": {},
   "outputs": [
    {
     "data": {
      "text/html": [
       "<div>\n",
       "<style scoped>\n",
       "    .dataframe tbody tr th:only-of-type {\n",
       "        vertical-align: middle;\n",
       "    }\n",
       "\n",
       "    .dataframe tbody tr th {\n",
       "        vertical-align: top;\n",
       "    }\n",
       "\n",
       "    .dataframe thead th {\n",
       "        text-align: right;\n",
       "    }\n",
       "</style>\n",
       "<table border=\"1\" class=\"dataframe\">\n",
       "  <thead>\n",
       "    <tr style=\"text-align: right;\">\n",
       "      <th></th>\n",
       "      <th>Employee</th>\n",
       "      <th>Department</th>\n",
       "      <th>Age</th>\n",
       "      <th>Salary</th>\n",
       "      <th>Experience</th>\n",
       "    </tr>\n",
       "  </thead>\n",
       "  <tbody>\n",
       "    <tr>\n",
       "      <th>0</th>\n",
       "      <td>Alice</td>\n",
       "      <td>HR</td>\n",
       "      <td>25</td>\n",
       "      <td>50000</td>\n",
       "      <td>2</td>\n",
       "    </tr>\n",
       "    <tr>\n",
       "      <th>1</th>\n",
       "      <td>Bob</td>\n",
       "      <td>IT</td>\n",
       "      <td>32</td>\n",
       "      <td>70000</td>\n",
       "      <td>7</td>\n",
       "    </tr>\n",
       "    <tr>\n",
       "      <th>2</th>\n",
       "      <td>Charlie</td>\n",
       "      <td>IT</td>\n",
       "      <td>29</td>\n",
       "      <td>65000</td>\n",
       "      <td>5</td>\n",
       "    </tr>\n",
       "    <tr>\n",
       "      <th>3</th>\n",
       "      <td>David</td>\n",
       "      <td>HR</td>\n",
       "      <td>41</td>\n",
       "      <td>80000</td>\n",
       "      <td>15</td>\n",
       "    </tr>\n",
       "    <tr>\n",
       "      <th>4</th>\n",
       "      <td>Emma</td>\n",
       "      <td>Finance</td>\n",
       "      <td>37</td>\n",
       "      <td>75000</td>\n",
       "      <td>10</td>\n",
       "    </tr>\n",
       "    <tr>\n",
       "      <th>5</th>\n",
       "      <td>Frank</td>\n",
       "      <td>Finance</td>\n",
       "      <td>45</td>\n",
       "      <td>90000</td>\n",
       "      <td>20</td>\n",
       "    </tr>\n",
       "    <tr>\n",
       "      <th>6</th>\n",
       "      <td>Grace</td>\n",
       "      <td>IT</td>\n",
       "      <td>26</td>\n",
       "      <td>62000</td>\n",
       "      <td>3</td>\n",
       "    </tr>\n",
       "    <tr>\n",
       "      <th>7</th>\n",
       "      <td>Hannah</td>\n",
       "      <td>HR</td>\n",
       "      <td>38</td>\n",
       "      <td>85000</td>\n",
       "      <td>12</td>\n",
       "    </tr>\n",
       "  </tbody>\n",
       "</table>\n",
       "</div>"
      ],
      "text/plain": [
       "  Employee Department  Age  Salary  Experience\n",
       "0    Alice         HR   25   50000           2\n",
       "1      Bob         IT   32   70000           7\n",
       "2  Charlie         IT   29   65000           5\n",
       "3    David         HR   41   80000          15\n",
       "4     Emma    Finance   37   75000          10\n",
       "5    Frank    Finance   45   90000          20\n",
       "6    Grace         IT   26   62000           3\n",
       "7   Hannah         HR   38   85000          12"
      ]
     },
     "execution_count": 18,
     "metadata": {},
     "output_type": "execute_result"
    }
   ],
   "source": [
    "data = {\n",
    "    'Employee': ['Alice', 'Bob', 'Charlie', 'David', 'Emma', 'Frank', 'Grace', 'Hannah'],\n",
    "    'Department': ['HR', 'IT', 'IT', 'HR', 'Finance', 'Finance', 'IT', 'HR'],\n",
    "    'Age': [25, 32, 29, 41, 37, 45, 26, 38],\n",
    "    'Salary': [50000, 70000, 65000, 80000, 75000, 90000, 62000, 85000],\n",
    "    'Experience': [2, 7, 5, 15, 10, 20, 3, 12]\n",
    "}\n",
    "e=pd.DataFrame(data)\n",
    "e"
   ]
  },
  {
   "cell_type": "code",
   "execution_count": 19,
   "id": "f8fd8e8e",
   "metadata": {},
   "outputs": [
    {
     "name": "stdout",
     "output_type": "stream",
     "text": [
      "            Employee  Age  Salary  Experience\n",
      "Department                                   \n",
      "Finance            2    2       2           2\n",
      "HR                 3    3       3           3\n",
      "IT                 3    3       3           3\n"
     ]
    }
   ],
   "source": [
    "department=e.groupby(by=\"Department\").count()\n",
    "print(department)"
   ]
  },
  {
   "cell_type": "code",
   "execution_count": 20,
   "id": "43731df0",
   "metadata": {},
   "outputs": [
    {
     "name": "stdout",
     "output_type": "stream",
     "text": [
      "Department\n",
      "Finance    82500.000000\n",
      "HR         71666.666667\n",
      "IT         65666.666667\n",
      "Name: Salary, dtype: float64\n"
     ]
    }
   ],
   "source": [
    "Avg_Salary=e.groupby(\"Department\")[\"Salary\"].mean()\n",
    "print(Avg_Salary)"
   ]
  },
  {
   "cell_type": "code",
   "execution_count": 21,
   "id": "2a0cebb2",
   "metadata": {},
   "outputs": [
    {
     "name": "stdout",
     "output_type": "stream",
     "text": [
      "  Employee Department  Age  Salary  Experience\n",
      "5    Frank    Finance   45   90000          20\n",
      "7   Hannah         HR   38   85000          12\n",
      "1      Bob         IT   32   70000           7\n"
     ]
    }
   ],
   "source": [
    "max_salary=e.groupby([\"Department\",\"Employee\"])[\"Salary\"].max()\n",
    "max_salary1=e.loc[e.groupby(\"Department\")[\"Salary\"].idxmax()]\n",
    "\n",
    "print(max_salary1)"
   ]
  },
  {
   "cell_type": "code",
   "execution_count": 22,
   "id": "a60d1675",
   "metadata": {},
   "outputs": [
    {
     "name": "stdout",
     "output_type": "stream",
     "text": [
      "Department\n",
      "Finance    5\n",
      "HR         7\n",
      "IT         1\n",
      "Name: Salary, dtype: int64\n"
     ]
    }
   ],
   "source": [
    "pos=e.groupby(\"Department\")[\"Salary\"].idxmax()\n",
    "print(pos)"
   ]
  },
  {
   "cell_type": "code",
   "execution_count": 23,
   "id": "3a58398b",
   "metadata": {},
   "outputs": [
    {
     "data": {
      "text/html": [
       "<div>\n",
       "<style scoped>\n",
       "    .dataframe tbody tr th:only-of-type {\n",
       "        vertical-align: middle;\n",
       "    }\n",
       "\n",
       "    .dataframe tbody tr th {\n",
       "        vertical-align: top;\n",
       "    }\n",
       "\n",
       "    .dataframe thead th {\n",
       "        text-align: right;\n",
       "    }\n",
       "</style>\n",
       "<table border=\"1\" class=\"dataframe\">\n",
       "  <thead>\n",
       "    <tr style=\"text-align: right;\">\n",
       "      <th></th>\n",
       "      <th>min</th>\n",
       "      <th>max</th>\n",
       "      <th>mean</th>\n",
       "    </tr>\n",
       "    <tr>\n",
       "      <th>Department</th>\n",
       "      <th></th>\n",
       "      <th></th>\n",
       "      <th></th>\n",
       "    </tr>\n",
       "  </thead>\n",
       "  <tbody>\n",
       "    <tr>\n",
       "      <th>Finance</th>\n",
       "      <td>75000</td>\n",
       "      <td>90000</td>\n",
       "      <td>82500.000000</td>\n",
       "    </tr>\n",
       "    <tr>\n",
       "      <th>HR</th>\n",
       "      <td>50000</td>\n",
       "      <td>85000</td>\n",
       "      <td>71666.666667</td>\n",
       "    </tr>\n",
       "    <tr>\n",
       "      <th>IT</th>\n",
       "      <td>62000</td>\n",
       "      <td>70000</td>\n",
       "      <td>65666.666667</td>\n",
       "    </tr>\n",
       "  </tbody>\n",
       "</table>\n",
       "</div>"
      ],
      "text/plain": [
       "              min    max          mean\n",
       "Department                            \n",
       "Finance     75000  90000  82500.000000\n",
       "HR          50000  85000  71666.666667\n",
       "IT          62000  70000  65666.666667"
      ]
     },
     "execution_count": 23,
     "metadata": {},
     "output_type": "execute_result"
    }
   ],
   "source": [
    "mul=e.groupby(\"Department\")[\"Salary\"].agg([\"min\", \"max\", \"mean\"])\n",
    "mul"
   ]
  },
  {
   "cell_type": "code",
   "execution_count": 33,
   "id": "aab2cb55",
   "metadata": {},
   "outputs": [
    {
     "data": {
      "text/plain": [
       "Index(['Employee', 'Department', 'Age', 'Salary', 'Experience'], dtype='object')"
      ]
     },
     "execution_count": 33,
     "metadata": {},
     "output_type": "execute_result"
    }
   ],
   "source": [
    "\n",
    "# print(e[(e[\"Salary\"]>65000) & (e[\"Experience\"]>5)])\n",
    "e.columns"
   ]
  },
  {
   "cell_type": "code",
   "execution_count": 35,
   "id": "df2fa196",
   "metadata": {},
   "outputs": [
    {
     "name": "stdout",
     "output_type": "stream",
     "text": [
      "  Employee Department  Age  Salary  Experience  Seniority\n",
      "0    Alice         HR   25   50000           2     Junior\n",
      "1      Bob         IT   32   70000           7  Mid-Level\n",
      "2  Charlie         IT   29   65000           5  Mid-Level\n",
      "3    David         HR   41   80000          15     Senior\n",
      "4     Emma    Finance   37   75000          10     Senior\n",
      "5    Frank    Finance   45   90000          20     Senior\n",
      "6    Grace         IT   26   62000           3     Junior\n",
      "7   Hannah         HR   38   85000          12     Senior\n"
     ]
    }
   ],
   "source": [
    "# df['Seniority']=df['Seniority'].apply(lambda X: \"Junior\" if X<5  \"Mid-Level\" if <10 else \"Senior\")\n",
    "e['Seniority'] = e['Experience'].apply(lambda x: \"Junior\" if x < 5 else \"Mid-Level\" if x < 10 else \"Senior\")\n",
    "print(e)"
   ]
  },
  {
   "cell_type": "code",
   "execution_count": 42,
   "id": "9aa515c5",
   "metadata": {},
   "outputs": [
    {
     "data": {
      "text/plain": [
       "Department\n",
       "Finance    90000\n",
       "HR         85000\n",
       "IT         70000\n",
       "Name: Salary, dtype: int64"
      ]
     },
     "execution_count": 42,
     "metadata": {},
     "output_type": "execute_result"
    }
   ],
   "source": [
    "sort_it=e.sort_values(by='Salary', ascending=False) # Descending order\n",
    "sort_it.groupby(\"Department\")[\"Salary\"].max()"
   ]
  },
  {
   "cell_type": "code",
   "execution_count": 46,
   "id": "a1def977",
   "metadata": {},
   "outputs": [
    {
     "data": {
      "text/html": [
       "<div>\n",
       "<style scoped>\n",
       "    .dataframe tbody tr th:only-of-type {\n",
       "        vertical-align: middle;\n",
       "    }\n",
       "\n",
       "    .dataframe tbody tr th {\n",
       "        vertical-align: top;\n",
       "    }\n",
       "\n",
       "    .dataframe thead th {\n",
       "        text-align: right;\n",
       "    }\n",
       "</style>\n",
       "<table border=\"1\" class=\"dataframe\">\n",
       "  <thead>\n",
       "    <tr style=\"text-align: right;\">\n",
       "      <th></th>\n",
       "      <th>Employee</th>\n",
       "      <th>Department</th>\n",
       "      <th>Age</th>\n",
       "      <th>Salary</th>\n",
       "      <th>Experience</th>\n",
       "      <th>Seniority</th>\n",
       "    </tr>\n",
       "  </thead>\n",
       "  <tbody>\n",
       "    <tr>\n",
       "      <th>1</th>\n",
       "      <td>Bob</td>\n",
       "      <td>IT</td>\n",
       "      <td>32</td>\n",
       "      <td>70000</td>\n",
       "      <td>7</td>\n",
       "      <td>Mid-Level</td>\n",
       "    </tr>\n",
       "    <tr>\n",
       "      <th>2</th>\n",
       "      <td>Charlie</td>\n",
       "      <td>IT</td>\n",
       "      <td>29</td>\n",
       "      <td>65000</td>\n",
       "      <td>5</td>\n",
       "      <td>Mid-Level</td>\n",
       "    </tr>\n",
       "    <tr>\n",
       "      <th>6</th>\n",
       "      <td>Grace</td>\n",
       "      <td>IT</td>\n",
       "      <td>26</td>\n",
       "      <td>62000</td>\n",
       "      <td>3</td>\n",
       "      <td>Junior</td>\n",
       "    </tr>\n",
       "  </tbody>\n",
       "</table>\n",
       "</div>"
      ],
      "text/plain": [
       "  Employee Department  Age  Salary  Experience  Seniority\n",
       "1      Bob         IT   32   70000           7  Mid-Level\n",
       "2  Charlie         IT   29   65000           5  Mid-Level\n",
       "6    Grace         IT   26   62000           3     Junior"
      ]
     },
     "execution_count": 46,
     "metadata": {},
     "output_type": "execute_result"
    }
   ],
   "source": [
    "it_e=e[e[\"Department\"]==\"IT\"]\n",
    "it_e.sort_values(by=\"Salary\",ascending=False)"
   ]
  },
  {
   "cell_type": "markdown",
   "id": "3754e29d",
   "metadata": {},
   "source": [
    "# Analyzing Student Grades"
   ]
  },
  {
   "cell_type": "code",
   "execution_count": 49,
   "id": "310fa5a3",
   "metadata": {},
   "outputs": [
    {
     "data": {
      "text/html": [
       "<div>\n",
       "<style scoped>\n",
       "    .dataframe tbody tr th:only-of-type {\n",
       "        vertical-align: middle;\n",
       "    }\n",
       "\n",
       "    .dataframe tbody tr th {\n",
       "        vertical-align: top;\n",
       "    }\n",
       "\n",
       "    .dataframe thead th {\n",
       "        text-align: right;\n",
       "    }\n",
       "</style>\n",
       "<table border=\"1\" class=\"dataframe\">\n",
       "  <thead>\n",
       "    <tr style=\"text-align: right;\">\n",
       "      <th></th>\n",
       "      <th>Student</th>\n",
       "      <th>Subject</th>\n",
       "      <th>Marks</th>\n",
       "      <th>Attendance</th>\n",
       "    </tr>\n",
       "  </thead>\n",
       "  <tbody>\n",
       "    <tr>\n",
       "      <th>0</th>\n",
       "      <td>John</td>\n",
       "      <td>Math</td>\n",
       "      <td>85</td>\n",
       "      <td>92</td>\n",
       "    </tr>\n",
       "    <tr>\n",
       "      <th>1</th>\n",
       "      <td>Sara</td>\n",
       "      <td>Science</td>\n",
       "      <td>72</td>\n",
       "      <td>80</td>\n",
       "    </tr>\n",
       "    <tr>\n",
       "      <th>2</th>\n",
       "      <td>Mike</td>\n",
       "      <td>Math</td>\n",
       "      <td>90</td>\n",
       "      <td>95</td>\n",
       "    </tr>\n",
       "    <tr>\n",
       "      <th>3</th>\n",
       "      <td>Anna</td>\n",
       "      <td>Science</td>\n",
       "      <td>65</td>\n",
       "      <td>70</td>\n",
       "    </tr>\n",
       "    <tr>\n",
       "      <th>4</th>\n",
       "      <td>David</td>\n",
       "      <td>Math</td>\n",
       "      <td>78</td>\n",
       "      <td>85</td>\n",
       "    </tr>\n",
       "    <tr>\n",
       "      <th>5</th>\n",
       "      <td>Emily</td>\n",
       "      <td>Science</td>\n",
       "      <td>88</td>\n",
       "      <td>90</td>\n",
       "    </tr>\n",
       "    <tr>\n",
       "      <th>6</th>\n",
       "      <td>Chris</td>\n",
       "      <td>Math</td>\n",
       "      <td>92</td>\n",
       "      <td>97</td>\n",
       "    </tr>\n",
       "    <tr>\n",
       "      <th>7</th>\n",
       "      <td>Sophia</td>\n",
       "      <td>Science</td>\n",
       "      <td>55</td>\n",
       "      <td>60</td>\n",
       "    </tr>\n",
       "  </tbody>\n",
       "</table>\n",
       "</div>"
      ],
      "text/plain": [
       "  Student  Subject  Marks  Attendance\n",
       "0    John     Math     85          92\n",
       "1    Sara  Science     72          80\n",
       "2    Mike     Math     90          95\n",
       "3    Anna  Science     65          70\n",
       "4   David     Math     78          85\n",
       "5   Emily  Science     88          90\n",
       "6   Chris     Math     92          97\n",
       "7  Sophia  Science     55          60"
      ]
     },
     "execution_count": 49,
     "metadata": {},
     "output_type": "execute_result"
    }
   ],
   "source": [
    "student_data = {\n",
    "    'Student': ['John', 'Sara', 'Mike', 'Anna', 'David', 'Emily', 'Chris', 'Sophia'],\n",
    "    'Subject': ['Math', 'Science', 'Math', 'Science', 'Math', 'Science', 'Math', 'Science'],\n",
    "    'Marks': [85, 72, 90, 65, 78, 88, 92, 55],\n",
    "    'Attendance': [92, 80, 95, 70, 85, 90, 97, 60]\n",
    "}\n",
    "student_d=pd.DataFrame(student_data)\n",
    "student_d"
   ]
  },
  {
   "cell_type": "code",
   "execution_count": 50,
   "id": "3edd4300",
   "metadata": {},
   "outputs": [
    {
     "data": {
      "text/plain": [
       "Subject\n",
       "Math       86.25\n",
       "Science    70.00\n",
       "Name: Marks, dtype: float64"
      ]
     },
     "execution_count": 50,
     "metadata": {},
     "output_type": "execute_result"
    }
   ],
   "source": [
    "student_d.groupby(\"Subject\")[\"Marks\"].mean()"
   ]
  },
  {
   "cell_type": "code",
   "execution_count": 58,
   "id": "eaa25f89",
   "metadata": {},
   "outputs": [
    {
     "name": "stdout",
     "output_type": "stream",
     "text": [
      "  Student  Subject  Marks  Attendance\n",
      "3    Anna  Science     65          70\n",
      "7  Sophia  Science     55          60\n"
     ]
    }
   ],
   "source": [
    "filtered=student_d[(student_d[\"Attendance\"]<90) & (student_d[\"Marks\"])]\n",
    "print(filtered)"
   ]
  },
  {
   "cell_type": "code",
   "execution_count": 60,
   "id": "73162e4b",
   "metadata": {},
   "outputs": [
    {
     "name": "stdout",
     "output_type": "stream",
     "text": [
      "  Student  Subject  Marks  Attendance Grade\n",
      "0    John     Math     85          92     B\n",
      "1    Sara  Science     72          80     B\n",
      "2    Mike     Math     90          95     A\n",
      "3    Anna  Science     65          70     B\n",
      "4   David     Math     78          85     B\n",
      "5   Emily  Science     88          90     B\n",
      "6   Chris     Math     92          97     A\n",
      "7  Sophia  Science     55          60     B\n"
     ]
    }
   ],
   "source": [
    "student_d[\"Grade\"]=student_d[\"Marks\"].apply(lambda x: \"A\" if x>=90 else \"B\" if(x>=80 & x<90) else \"c\" if (x>=70 & x<80) else \"D\" )\n",
    "print(student_d)"
   ]
  },
  {
   "cell_type": "code",
   "execution_count": 67,
   "id": "89f179a3",
   "metadata": {},
   "outputs": [
    {
     "data": {
      "text/plain": [
       "Grade\n",
       "A    2\n",
       "B    6\n",
       "Name: Student, dtype: int64"
      ]
     },
     "execution_count": 67,
     "metadata": {},
     "output_type": "execute_result"
    }
   ],
   "source": [
    "student_d.groupby(\"Grade\")[\"Student\"].count()\n",
    "# student_d.columns"
   ]
  },
  {
   "cell_type": "code",
   "execution_count": 74,
   "id": "9166bff3",
   "metadata": {},
   "outputs": [],
   "source": [
    "# student_d[[\"Marks\",\"Attendance\"].corr()\n",
    "\n",
    "correlation=student_d[[\"Marks\", \"Attendance\"]].corr()\n",
    "relationship=correlation.loc[\"Marks\",\"Attendance\"]"
   ]
  },
  {
   "cell_type": "code",
   "execution_count": 75,
   "id": "c1abe1ee",
   "metadata": {},
   "outputs": [
    {
     "name": "stdout",
     "output_type": "stream",
     "text": [
      "Stongly effecting \n"
     ]
    }
   ],
   "source": [
    "if relationship>0:\n",
    "    print(\"Stongly effecting \")\n",
    "elif relationship<0:\n",
    "    print(\"No Effect\")\n",
    "else:\n",
    "    print(\"No reletionship among them\")"
   ]
  },
  {
   "cell_type": "markdown",
   "id": "ee914cfe",
   "metadata": {},
   "source": [
    "# filehandling,json and logging\n"
   ]
  },
  {
   "cell_type": "code",
   "execution_count": null,
   "id": "06f6965d",
   "metadata": {},
   "outputs": [],
   "source": [
    "import logging\n",
    "\n",
    "# Set the level and format of logs\n",
    "logging.basicConfig(level=logging.INFO)\n",
    "\n",
    "logging.info(\"Program started\")\n",
    "logging.warning(\"This is a warning\")\n",
    "logging.error(\"Something went wrong\")\n"
   ]
  },
  {
   "cell_type": "code",
   "execution_count": null,
   "id": "8fced341",
   "metadata": {},
   "outputs": [],
   "source": [
    "logging.basicConfig(filename=\"app.log\", level=logging.INFO)\n",
    "logging.info(\"Program started\")\n",
    "logging.warning(\"This is a warning\")\n",
    "logging.error(\"Something went wrong\")\n"
   ]
  },
  {
   "cell_type": "code",
   "execution_count": null,
   "id": "e92f20ff",
   "metadata": {},
   "outputs": [],
   "source": [
    "import json\n",
    "employee = {\n",
    "    \"name\": \"CK\",\n",
    "    \"department\": {\n",
    "        \"name\": \"Engineering\",\n",
    "        \"location\": \"Hyderabad\"\n",
    "    },\n",
    "    \"projects\": [\n",
    "        {\"title\": \"Contact App\", \"status\": \"Completed\"},\n",
    "        {\"title\": \"Game UI\", \"status\": \"Ongoing\"}\n",
    "    ]\n",
    "}"
   ]
  },
  {
   "cell_type": "code",
   "execution_count": null,
   "id": "4eea0fb9",
   "metadata": {},
   "outputs": [],
   "source": [
    "json_string = json.dumps(employee, indent=2)"
   ]
  },
  {
   "cell_type": "code",
   "execution_count": null,
   "id": "41e4b722",
   "metadata": {},
   "outputs": [],
   "source": [
    "print(json_string)"
   ]
  },
  {
   "cell_type": "code",
   "execution_count": null,
   "id": "4e9b7776",
   "metadata": {},
   "outputs": [],
   "source": [
    "import pylint\n",
    "pylint exception1.py"
   ]
  },
  {
   "cell_type": "code",
   "execution_count": null,
   "id": "7eab1bde",
   "metadata": {},
   "outputs": [],
   "source": [
    "python min_max_matrix.py\n"
   ]
  }
 ],
 "metadata": {
  "kernelspec": {
   "display_name": "Python 3 (ipykernel)",
   "language": "python",
   "name": "python3"
  },
  "language_info": {
   "codemirror_mode": {
    "name": "ipython",
    "version": 3
   },
   "file_extension": ".py",
   "mimetype": "text/x-python",
   "name": "python",
   "nbconvert_exporter": "python",
   "pygments_lexer": "ipython3",
   "version": "3.11.5"
  }
 },
 "nbformat": 4,
 "nbformat_minor": 5
}
