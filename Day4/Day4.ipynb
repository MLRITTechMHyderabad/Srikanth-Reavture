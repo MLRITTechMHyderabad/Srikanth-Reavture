{
 "cells": [
  {
   "cell_type": "markdown",
   "id": "42c0782a",
   "metadata": {},
   "source": [
    "# Analyzing Student Grades# Submarine problem "
   ]
  },
  {
   "cell_type": "code",
   "execution_count": 12,
   "id": "50dee00a",
   "metadata": {},
   "outputs": [],
   "source": [
    "import pandas as pd"
   ]
  },
  {
   "cell_type": "code",
   "execution_count": 13,
   "id": "ed31e9d7",
   "metadata": {},
   "outputs": [
    {
     "data": {
      "text/html": [
       "<div>\n",
       "<style scoped>\n",
       "    .dataframe tbody tr th:only-of-type {\n",
       "        vertical-align: middle;\n",
       "    }\n",
       "\n",
       "    .dataframe tbody tr th {\n",
       "        vertical-align: top;\n",
       "    }\n",
       "\n",
       "    .dataframe thead th {\n",
       "        text-align: right;\n",
       "    }\n",
       "</style>\n",
       "<table border=\"1\" class=\"dataframe\">\n",
       "  <thead>\n",
       "    <tr style=\"text-align: right;\">\n",
       "      <th></th>\n",
       "      <th>Student</th>\n",
       "      <th>Subject</th>\n",
       "      <th>Marks</th>\n",
       "      <th>Attendance</th>\n",
       "    </tr>\n",
       "  </thead>\n",
       "  <tbody>\n",
       "    <tr>\n",
       "      <th>0</th>\n",
       "      <td>John</td>\n",
       "      <td>Math</td>\n",
       "      <td>85</td>\n",
       "      <td>92</td>\n",
       "    </tr>\n",
       "    <tr>\n",
       "      <th>1</th>\n",
       "      <td>Sara</td>\n",
       "      <td>Science</td>\n",
       "      <td>72</td>\n",
       "      <td>80</td>\n",
       "    </tr>\n",
       "    <tr>\n",
       "      <th>2</th>\n",
       "      <td>Mike</td>\n",
       "      <td>Math</td>\n",
       "      <td>90</td>\n",
       "      <td>95</td>\n",
       "    </tr>\n",
       "    <tr>\n",
       "      <th>3</th>\n",
       "      <td>Anna</td>\n",
       "      <td>Science</td>\n",
       "      <td>65</td>\n",
       "      <td>70</td>\n",
       "    </tr>\n",
       "    <tr>\n",
       "      <th>4</th>\n",
       "      <td>David</td>\n",
       "      <td>Math</td>\n",
       "      <td>78</td>\n",
       "      <td>85</td>\n",
       "    </tr>\n",
       "    <tr>\n",
       "      <th>5</th>\n",
       "      <td>Emily</td>\n",
       "      <td>Science</td>\n",
       "      <td>88</td>\n",
       "      <td>90</td>\n",
       "    </tr>\n",
       "    <tr>\n",
       "      <th>6</th>\n",
       "      <td>Chris</td>\n",
       "      <td>Math</td>\n",
       "      <td>92</td>\n",
       "      <td>97</td>\n",
       "    </tr>\n",
       "    <tr>\n",
       "      <th>7</th>\n",
       "      <td>Sophia</td>\n",
       "      <td>Science</td>\n",
       "      <td>55</td>\n",
       "      <td>60</td>\n",
       "    </tr>\n",
       "  </tbody>\n",
       "</table>\n",
       "</div>"
      ],
      "text/plain": [
       "  Student  Subject  Marks  Attendance\n",
       "0    John     Math     85          92\n",
       "1    Sara  Science     72          80\n",
       "2    Mike     Math     90          95\n",
       "3    Anna  Science     65          70\n",
       "4   David     Math     78          85\n",
       "5   Emily  Science     88          90\n",
       "6   Chris     Math     92          97\n",
       "7  Sophia  Science     55          60"
      ]
     },
     "execution_count": 13,
     "metadata": {},
     "output_type": "execute_result"
    }
   ],
   "source": [
    "student_data = {\n",
    "    'Student': ['John', 'Sara', 'Mike', 'Anna', 'David', 'Emily', 'Chris', 'Sophia'],\n",
    "    'Subject': ['Math', 'Science', 'Math', 'Science', 'Math', 'Science', 'Math', 'Science'],\n",
    "    'Marks': [85, 72, 90, 65, 78, 88, 92, 55],\n",
    "    'Attendance': [92, 80, 95, 70, 85, 90, 97, 60]\n",
    "}\n",
    "student_d=pd.DataFrame(student_data)\n",
    "student_d"
   ]
  },
  {
   "cell_type": "code",
   "execution_count": 14,
   "id": "adada603",
   "metadata": {},
   "outputs": [
    {
     "data": {
      "text/plain": [
       "Subject\n",
       "Math       86.25\n",
       "Science    70.00\n",
       "Name: Marks, dtype: float64"
      ]
     },
     "execution_count": 14,
     "metadata": {},
     "output_type": "execute_result"
    }
   ],
   "source": [
    "student_d.groupby(\"Subject\")[\"Marks\"].mean()"
   ]
  },
  {
   "cell_type": "code",
   "execution_count": 15,
   "id": "6fb54585",
   "metadata": {},
   "outputs": [
    {
     "name": "stdout",
     "output_type": "stream",
     "text": [
      "  Student  Subject  Marks  Attendance\n",
      "3    Anna  Science     65          70\n",
      "7  Sophia  Science     55          60\n"
     ]
    }
   ],
   "source": [
    "filtered=student_d[(student_d[\"Attendance\"]<90) & (student_d[\"Marks\"])]\n",
    "print(filtered)"
   ]
  },
  {
   "cell_type": "code",
   "execution_count": 16,
   "id": "5b433765",
   "metadata": {},
   "outputs": [
    {
     "name": "stdout",
     "output_type": "stream",
     "text": [
      "  Student  Subject  Marks  Attendance Grade\n",
      "0    John     Math     85          92     B\n",
      "1    Sara  Science     72          80     B\n",
      "2    Mike     Math     90          95     A\n",
      "3    Anna  Science     65          70     B\n",
      "4   David     Math     78          85     B\n",
      "5   Emily  Science     88          90     B\n",
      "6   Chris     Math     92          97     A\n",
      "7  Sophia  Science     55          60     B\n"
     ]
    }
   ],
   "source": [
    "student_d[\"Grade\"]=student_d[\"Marks\"].apply(lambda x: \"A\" if x>=90 else \"B\" if(x>=80 & x<90) else \"c\" if (x>=70 & x<80) else \"D\" )\n",
    "print(student_d)"
   ]
  },
  {
   "cell_type": "code",
   "execution_count": 17,
   "id": "5100849f",
   "metadata": {},
   "outputs": [
    {
     "data": {
      "text/plain": [
       "Grade\n",
       "A    2\n",
       "B    6\n",
       "Name: Student, dtype: int64"
      ]
     },
     "execution_count": 17,
     "metadata": {},
     "output_type": "execute_result"
    }
   ],
   "source": [
    "student_d.groupby(\"Grade\")[\"Student\"].count()\n",
    "# student_d.columns"
   ]
  },
  {
   "cell_type": "code",
   "execution_count": 18,
   "id": "11b81b55",
   "metadata": {},
   "outputs": [],
   "source": [
    "# student_d[[\"Marks\",\"Attendance\"].corr()\n",
    "\n",
    "correlation=student_d[[\"Marks\", \"Attendance\"]].corr()\n",
    "relationship=correlation.loc[\"Marks\",\"Attendance\"]"
   ]
  },
  {
   "cell_type": "code",
   "execution_count": 19,
   "id": "9019623d",
   "metadata": {},
   "outputs": [
    {
     "name": "stdout",
     "output_type": "stream",
     "text": [
      "Stongly effecting \n"
     ]
    }
   ],
   "source": [
    "if relationship>0:\n",
    "    print(\"Stongly effecting \")\n",
    "elif relationship<0:\n",
    "    print(\"No Effect\")\n",
    "else:\n",
    "    print(\"No reletionship among them\")"
   ]
  },
  {
   "cell_type": "markdown",
   "id": "1f9784cf",
   "metadata": {},
   "source": [
    "# Employee Salary Insights"
   ]
  },
  {
   "cell_type": "code",
   "execution_count": 20,
   "id": "d446629f",
   "metadata": {},
   "outputs": [
    {
     "data": {
      "text/html": [
       "<div>\n",
       "<style scoped>\n",
       "    .dataframe tbody tr th:only-of-type {\n",
       "        vertical-align: middle;\n",
       "    }\n",
       "\n",
       "    .dataframe tbody tr th {\n",
       "        vertical-align: top;\n",
       "    }\n",
       "\n",
       "    .dataframe thead th {\n",
       "        text-align: right;\n",
       "    }\n",
       "</style>\n",
       "<table border=\"1\" class=\"dataframe\">\n",
       "  <thead>\n",
       "    <tr style=\"text-align: right;\">\n",
       "      <th></th>\n",
       "      <th>Employee</th>\n",
       "      <th>Department</th>\n",
       "      <th>Age</th>\n",
       "      <th>Salary</th>\n",
       "      <th>Experience</th>\n",
       "    </tr>\n",
       "  </thead>\n",
       "  <tbody>\n",
       "    <tr>\n",
       "      <th>0</th>\n",
       "      <td>Alice</td>\n",
       "      <td>HR</td>\n",
       "      <td>25</td>\n",
       "      <td>50000</td>\n",
       "      <td>2</td>\n",
       "    </tr>\n",
       "    <tr>\n",
       "      <th>1</th>\n",
       "      <td>Bob</td>\n",
       "      <td>IT</td>\n",
       "      <td>32</td>\n",
       "      <td>70000</td>\n",
       "      <td>7</td>\n",
       "    </tr>\n",
       "    <tr>\n",
       "      <th>2</th>\n",
       "      <td>Charlie</td>\n",
       "      <td>IT</td>\n",
       "      <td>29</td>\n",
       "      <td>65000</td>\n",
       "      <td>5</td>\n",
       "    </tr>\n",
       "    <tr>\n",
       "      <th>3</th>\n",
       "      <td>David</td>\n",
       "      <td>HR</td>\n",
       "      <td>41</td>\n",
       "      <td>80000</td>\n",
       "      <td>15</td>\n",
       "    </tr>\n",
       "    <tr>\n",
       "      <th>4</th>\n",
       "      <td>Emma</td>\n",
       "      <td>Finance</td>\n",
       "      <td>37</td>\n",
       "      <td>75000</td>\n",
       "      <td>10</td>\n",
       "    </tr>\n",
       "    <tr>\n",
       "      <th>5</th>\n",
       "      <td>Frank</td>\n",
       "      <td>Finance</td>\n",
       "      <td>45</td>\n",
       "      <td>90000</td>\n",
       "      <td>20</td>\n",
       "    </tr>\n",
       "    <tr>\n",
       "      <th>6</th>\n",
       "      <td>Grace</td>\n",
       "      <td>IT</td>\n",
       "      <td>26</td>\n",
       "      <td>62000</td>\n",
       "      <td>3</td>\n",
       "    </tr>\n",
       "    <tr>\n",
       "      <th>7</th>\n",
       "      <td>Hannah</td>\n",
       "      <td>HR</td>\n",
       "      <td>38</td>\n",
       "      <td>85000</td>\n",
       "      <td>12</td>\n",
       "    </tr>\n",
       "  </tbody>\n",
       "</table>\n",
       "</div>"
      ],
      "text/plain": [
       "  Employee Department  Age  Salary  Experience\n",
       "0    Alice         HR   25   50000           2\n",
       "1      Bob         IT   32   70000           7\n",
       "2  Charlie         IT   29   65000           5\n",
       "3    David         HR   41   80000          15\n",
       "4     Emma    Finance   37   75000          10\n",
       "5    Frank    Finance   45   90000          20\n",
       "6    Grace         IT   26   62000           3\n",
       "7   Hannah         HR   38   85000          12"
      ]
     },
     "execution_count": 20,
     "metadata": {},
     "output_type": "execute_result"
    }
   ],
   "source": [
    "data = {\n",
    "    'Employee': ['Alice', 'Bob', 'Charlie', 'David', 'Emma', 'Frank', 'Grace', 'Hannah'],\n",
    "    'Department': ['HR', 'IT', 'IT', 'HR', 'Finance', 'Finance', 'IT', 'HR'],\n",
    "    'Age': [25, 32, 29, 41, 37, 45, 26, 38],\n",
    "    'Salary': [50000, 70000, 65000, 80000, 75000, 90000, 62000, 85000],\n",
    "    'Experience': [2, 7, 5, 15, 10, 20, 3, 12]\n",
    "}\n",
    "e=pd.DataFrame(data)\n",
    "e"
   ]
  },
  {
   "cell_type": "code",
   "execution_count": 21,
   "id": "cad4e6e7",
   "metadata": {},
   "outputs": [
    {
     "name": "stdout",
     "output_type": "stream",
     "text": [
      "            Employee  Age  Salary  Experience\n",
      "Department                                   \n",
      "Finance            2    2       2           2\n",
      "HR                 3    3       3           3\n",
      "IT                 3    3       3           3\n"
     ]
    }
   ],
   "source": [
    "department=e.groupby(by=\"Department\").count()\n",
    "print(department)"
   ]
  },
  {
   "cell_type": "code",
   "execution_count": 22,
   "id": "81c5f587",
   "metadata": {},
   "outputs": [
    {
     "name": "stdout",
     "output_type": "stream",
     "text": [
      "Department\n",
      "Finance    82500.000000\n",
      "HR         71666.666667\n",
      "IT         65666.666667\n",
      "Name: Salary, dtype: float64\n"
     ]
    }
   ],
   "source": [
    "Avg_Salary=e.groupby(\"Department\")[\"Salary\"].mean()\n",
    "print(Avg_Salary)"
   ]
  },
  {
   "cell_type": "code",
   "execution_count": 23,
   "id": "8abda305",
   "metadata": {},
   "outputs": [
    {
     "name": "stdout",
     "output_type": "stream",
     "text": [
      "  Employee Department  Age  Salary  Experience\n",
      "5    Frank    Finance   45   90000          20\n",
      "7   Hannah         HR   38   85000          12\n",
      "1      Bob         IT   32   70000           7\n"
     ]
    }
   ],
   "source": [
    "max_salary=e.groupby([\"Department\",\"Employee\"])[\"Salary\"].max()\n",
    "max_salary1=e.loc[e.groupby(\"Department\")[\"Salary\"].idxmax()]\n",
    "\n",
    "print(max_salary1)"
   ]
  },
  {
   "cell_type": "code",
   "execution_count": 24,
   "id": "e01b6b41",
   "metadata": {},
   "outputs": [
    {
     "name": "stdout",
     "output_type": "stream",
     "text": [
      "Department\n",
      "Finance    5\n",
      "HR         7\n",
      "IT         1\n",
      "Name: Salary, dtype: int64\n"
     ]
    }
   ],
   "source": [
    "pos=e.groupby(\"Department\")[\"Salary\"].idxmax()\n",
    "print(pos)"
   ]
  },
  {
   "cell_type": "code",
   "execution_count": 25,
   "id": "239b7c7e",
   "metadata": {},
   "outputs": [
    {
     "data": {
      "text/html": [
       "<div>\n",
       "<style scoped>\n",
       "    .dataframe tbody tr th:only-of-type {\n",
       "        vertical-align: middle;\n",
       "    }\n",
       "\n",
       "    .dataframe tbody tr th {\n",
       "        vertical-align: top;\n",
       "    }\n",
       "\n",
       "    .dataframe thead th {\n",
       "        text-align: right;\n",
       "    }\n",
       "</style>\n",
       "<table border=\"1\" class=\"dataframe\">\n",
       "  <thead>\n",
       "    <tr style=\"text-align: right;\">\n",
       "      <th></th>\n",
       "      <th>min</th>\n",
       "      <th>max</th>\n",
       "      <th>mean</th>\n",
       "    </tr>\n",
       "    <tr>\n",
       "      <th>Department</th>\n",
       "      <th></th>\n",
       "      <th></th>\n",
       "      <th></th>\n",
       "    </tr>\n",
       "  </thead>\n",
       "  <tbody>\n",
       "    <tr>\n",
       "      <th>Finance</th>\n",
       "      <td>75000</td>\n",
       "      <td>90000</td>\n",
       "      <td>82500.000000</td>\n",
       "    </tr>\n",
       "    <tr>\n",
       "      <th>HR</th>\n",
       "      <td>50000</td>\n",
       "      <td>85000</td>\n",
       "      <td>71666.666667</td>\n",
       "    </tr>\n",
       "    <tr>\n",
       "      <th>IT</th>\n",
       "      <td>62000</td>\n",
       "      <td>70000</td>\n",
       "      <td>65666.666667</td>\n",
       "    </tr>\n",
       "  </tbody>\n",
       "</table>\n",
       "</div>"
      ],
      "text/plain": [
       "              min    max          mean\n",
       "Department                            \n",
       "Finance     75000  90000  82500.000000\n",
       "HR          50000  85000  71666.666667\n",
       "IT          62000  70000  65666.666667"
      ]
     },
     "execution_count": 25,
     "metadata": {},
     "output_type": "execute_result"
    }
   ],
   "source": [
    "mul=e.groupby(\"Department\")[\"Salary\"].agg([\"min\", \"max\", \"mean\"])\n",
    "mul"
   ]
  },
  {
   "cell_type": "code",
   "execution_count": 26,
   "id": "7cf59723",
   "metadata": {},
   "outputs": [
    {
     "name": "stdout",
     "output_type": "stream",
     "text": [
      "  Employee Department  Age  Salary  Experience  Seniority\n",
      "0    Alice         HR   25   50000           2     Junior\n",
      "1      Bob         IT   32   70000           7  Mid-Level\n",
      "2  Charlie         IT   29   65000           5  Mid-Level\n",
      "3    David         HR   41   80000          15     Senior\n",
      "4     Emma    Finance   37   75000          10     Senior\n",
      "5    Frank    Finance   45   90000          20     Senior\n",
      "6    Grace         IT   26   62000           3     Junior\n",
      "7   Hannah         HR   38   85000          12     Senior\n"
     ]
    }
   ],
   "source": [
    "# df['Seniority']=df['Seniority'].apply(lambda X: \"Junior\" if X<5  \"Mid-Level\" if <10 else \"Senior\")\n",
    "e['Seniority'] = e['Experience'].apply(lambda x: \"Junior\" if x < 5 else \"Mid-Level\" if x < 10 else \"Senior\")\n",
    "print(e)"
   ]
  },
  {
   "cell_type": "code",
   "execution_count": 27,
   "id": "03af9dec",
   "metadata": {},
   "outputs": [
    {
     "data": {
      "text/plain": [
       "Department\n",
       "Finance    90000\n",
       "HR         85000\n",
       "IT         70000\n",
       "Name: Salary, dtype: int64"
      ]
     },
     "execution_count": 27,
     "metadata": {},
     "output_type": "execute_result"
    }
   ],
   "source": [
    "sort_it=e.sort_values(by='Salary', ascending=False) # Descending order\n",
    "sort_it.groupby(\"Department\")[\"Salary\"].max()"
   ]
  },
  {
   "cell_type": "code",
   "execution_count": 28,
   "id": "0cf339ca",
   "metadata": {},
   "outputs": [
    {
     "data": {
      "text/html": [
       "<div>\n",
       "<style scoped>\n",
       "    .dataframe tbody tr th:only-of-type {\n",
       "        vertical-align: middle;\n",
       "    }\n",
       "\n",
       "    .dataframe tbody tr th {\n",
       "        vertical-align: top;\n",
       "    }\n",
       "\n",
       "    .dataframe thead th {\n",
       "        text-align: right;\n",
       "    }\n",
       "</style>\n",
       "<table border=\"1\" class=\"dataframe\">\n",
       "  <thead>\n",
       "    <tr style=\"text-align: right;\">\n",
       "      <th></th>\n",
       "      <th>Employee</th>\n",
       "      <th>Department</th>\n",
       "      <th>Age</th>\n",
       "      <th>Salary</th>\n",
       "      <th>Experience</th>\n",
       "      <th>Seniority</th>\n",
       "    </tr>\n",
       "  </thead>\n",
       "  <tbody>\n",
       "    <tr>\n",
       "      <th>1</th>\n",
       "      <td>Bob</td>\n",
       "      <td>IT</td>\n",
       "      <td>32</td>\n",
       "      <td>70000</td>\n",
       "      <td>7</td>\n",
       "      <td>Mid-Level</td>\n",
       "    </tr>\n",
       "    <tr>\n",
       "      <th>2</th>\n",
       "      <td>Charlie</td>\n",
       "      <td>IT</td>\n",
       "      <td>29</td>\n",
       "      <td>65000</td>\n",
       "      <td>5</td>\n",
       "      <td>Mid-Level</td>\n",
       "    </tr>\n",
       "    <tr>\n",
       "      <th>6</th>\n",
       "      <td>Grace</td>\n",
       "      <td>IT</td>\n",
       "      <td>26</td>\n",
       "      <td>62000</td>\n",
       "      <td>3</td>\n",
       "      <td>Junior</td>\n",
       "    </tr>\n",
       "  </tbody>\n",
       "</table>\n",
       "</div>"
      ],
      "text/plain": [
       "  Employee Department  Age  Salary  Experience  Seniority\n",
       "1      Bob         IT   32   70000           7  Mid-Level\n",
       "2  Charlie         IT   29   65000           5  Mid-Level\n",
       "6    Grace         IT   26   62000           3     Junior"
      ]
     },
     "execution_count": 28,
     "metadata": {},
     "output_type": "execute_result"
    }
   ],
   "source": [
    "it_e=e[e[\"Department\"]==\"IT\"]\n",
    "it_e.sort_values(by=\"Salary\",ascending=False)"
   ]
  }
 ],
 "metadata": {
  "kernelspec": {
   "display_name": "Python 3 (ipykernel)",
   "language": "python",
   "name": "python3"
  },
  "language_info": {
   "codemirror_mode": {
    "name": "ipython",
    "version": 3
   },
   "file_extension": ".py",
   "mimetype": "text/x-python",
   "name": "python",
   "nbconvert_exporter": "python",
   "pygments_lexer": "ipython3",
   "version": "3.11.5"
  }
 },
 "nbformat": 4,
 "nbformat_minor": 5
}
